{
 "cells": [
  {
   "cell_type": "code",
   "execution_count": null,
   "source": [
    "import metpy\n",
    "import cartopy.crs as ccrs\n",
    "import hvplot.xarray\n",
    "import matplotlib.pyplot as plt\n",
    "import fsspec\n",
    "import xarray as xr"
   ],
   "outputs": [],
   "metadata": {}
  },
  {
   "cell_type": "markdown",
   "source": [
    "Use metpy's `parse_cf()` to generate projection information for future plotting"
   ],
   "metadata": {}
  },
  {
   "cell_type": "code",
   "execution_count": null,
   "source": [
    "fs2 = fsspec.filesystem('reference', fo=\"./example_jsons/combined.json\", remote_protocol='s3', remote_options=dict(anon=True), skip_instance_cache=True)\n",
    "# fs2 = fsspec.filesystem('reference', fo=\"./combined.json\", remote_protocol='s3', remote_options=dict(anon=True), skip_instance_cache=True)\n",
    "ds = xr.open_dataset(fs2.get_mapper(\"\"), engine='zarr').metpy.parse_cf()\n",
    "ds"
   ],
   "outputs": [],
   "metadata": {}
  },
  {
   "cell_type": "markdown",
   "source": [
    "Use metpy to calculate lat/lon based on the GOES projection grid, and rename time dimension (for better plotting with hvplot)"
   ],
   "metadata": {}
  },
  {
   "cell_type": "code",
   "execution_count": null,
   "source": [
    "ds = ds.metpy.assign_latitude_longitude()\n",
    "ds['t'].attrs['long_name'] = 'Time'"
   ],
   "outputs": [],
   "metadata": {}
  },
  {
   "cell_type": "code",
   "execution_count": null,
   "source": [
    "import cartopy.crs as ccrs\n",
    "import cartopy.feature as cfeature"
   ],
   "outputs": [],
   "metadata": {}
  },
  {
   "cell_type": "code",
   "execution_count": null,
   "source": [
    "def get_xy_from_latlon(ds, lats, lons):\n",
    "    import numpy as np\n",
    "    lat1, lat2 = lats\n",
    "    lon1, lon2 = lons\n",
    "\n",
    "    lat = ds.latitude.data\n",
    "    lon = ds.longitude.data\n",
    "    \n",
    "    x = ds.x.data\n",
    "    y = ds.y.data\n",
    "    \n",
    "    x,y = np.meshgrid(x,y)\n",
    "    \n",
    "    x = x[(lat >= lat1) & (lat <= lat2) & (lon >= lon1) & (lon <= lon2)]\n",
    "    y = y[(lat >= lat1) & (lat <= lat2) & (lon >= lon1) & (lon <= lon2)] \n",
    "    \n",
    "    return min(x), max(x), min(y), max(y)"
   ],
   "outputs": [],
   "metadata": {}
  },
  {
   "cell_type": "code",
   "execution_count": null,
   "source": [
    "x1, x2, y1, y2 = get_xy_from_latlon(ds, (20,60), (-100, -50))\n",
    "print(x1, x2, y1, y2)"
   ],
   "outputs": [],
   "metadata": {}
  },
  {
   "cell_type": "code",
   "execution_count": null,
   "source": [
    "ds_subset = ds.sel(x=slice(x1, x2), y=slice(y2, y1))"
   ],
   "outputs": [],
   "metadata": {}
  },
  {
   "cell_type": "code",
   "execution_count": null,
   "source": [
    "projection = ccrs.Orthographic(-75, 30)\n",
    "transform = ds_subset.SST.metpy.cartopy_crs\n",
    "\n",
    "fig = plt.figure()\n",
    "ax = plt.subplot(projection=projection)\n",
    "ax.pcolormesh(ds_subset.x, ds_subset.y, ds_subset.SST.isel(t=0), transform=transform)\n",
    "ax.add_feature(cfeature.COASTLINE)\n",
    "ax.add_feature(cfeature.BORDERS)"
   ],
   "outputs": [],
   "metadata": {}
  },
  {
   "cell_type": "code",
   "execution_count": null,
   "source": [],
   "outputs": [],
   "metadata": {}
  }
 ],
 "metadata": {
  "kernelspec": {
   "name": "python3",
   "display_name": "Python 3.8.12 64-bit ('fsspec-reference-maker': conda)"
  },
  "language_info": {
   "codemirror_mode": {
    "name": "ipython",
    "version": 3
   },
   "file_extension": ".py",
   "mimetype": "text/x-python",
   "name": "python",
   "nbconvert_exporter": "python",
   "pygments_lexer": "ipython3",
   "version": "3.8.12"
  },
  "interpreter": {
   "hash": "09e290f4815ef39aff6dbca11dde8c0bbdf7f645370c8d0b6e37bbf9b5b58096"
  }
 },
 "nbformat": 4,
 "nbformat_minor": 5
}